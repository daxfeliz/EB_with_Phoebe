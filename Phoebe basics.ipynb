{
 "cells": [
  {
   "cell_type": "code",
   "execution_count": 1,
   "metadata": {
    "scrolled": true
   },
   "outputs": [],
   "source": [
    "import phoebe\n",
    "from phoebe import u # units\n",
    "import numpy as np\n",
    "import matplotlib.pyplot as plt"
   ]
  },
  {
   "cell_type": "code",
   "execution_count": 2,
   "metadata": {
    "scrolled": true
   },
   "outputs": [
    {
     "name": "stdout",
     "output_type": "stream",
     "text": [
      "<logging.RootLogger object at 0x1077ad110>\n"
     ]
    }
   ],
   "source": [
    "#keep track of things:\n",
    "logger = phoebe.logger(clevel='INFO', flevel='DEBUG', filename='tutorial.log')\n",
    "print( logger)"
   ]
  },
  {
   "cell_type": "code",
   "execution_count": 3,
   "metadata": {
    "scrolled": true
   },
   "outputs": [
    {
     "name": "stdout",
     "output_type": "stream",
     "text": [
      "Parameter: myparameter\n",
      "                       Qualifier: myparameter\n",
      "                     Description: mydescription\n",
      "                           Value: myvalue\n",
      "\n",
      "\n",
      "OrderedDict([('time', None), ('qualifier', 'myparameter'), ('feature', None), ('component', None), ('dataset', None), ('constraint', None), ('compute', None), ('model', None), ('kind', None), ('context', None)])\n",
      " \n",
      "('myparameter', 'myparameter')\n",
      " \n",
      "['description', 'value', 'visible_if', 'copy_for']\n",
      " \n",
      "('myvalue', 'myvalue', 'myvalue')\n",
      " \n",
      "newvalue\n"
     ]
    }
   ],
   "source": [
    "#Making parameters:\n",
    "param = phoebe.parameters.StringParameter(qualifier='myparameter', \n",
    "                                          description='mydescription',\n",
    "                                          value='myvalue')\n",
    "\n",
    "print(param)\n",
    "print(\"\")\n",
    "print(param.tags)\n",
    "print(\" \")\n",
    "print( param['qualifier'], param.qualifier)\n",
    "print(\" \")\n",
    "print(param.attributes)\n",
    "print(\" \")\n",
    "print( param.get_value(), param['value'], param.value)\n",
    "print(\" \")\n",
    "\n",
    "#you can also change parameters:\n",
    "param.set_value('newvalue')\n",
    "print param.get_value()"
   ]
  },
  {
   "cell_type": "code",
   "execution_count": 4,
   "metadata": {
    "scrolled": true
   },
   "outputs": [
    {
     "name": "stdout",
     "output_type": "stream",
     "text": [
      "\n",
      "    orbit:binary \n",
      "    \n",
      "        star:primary \n",
      "        star:secondary\n",
      "    \n",
      "\n",
      " \n",
      "\n",
      "    orbit:binary \n",
      "    \n",
      "        star:primary \n",
      "        star:secondary \n",
      "        envelope:contact_envelope\n",
      "    \n",
      "\n"
     ]
    }
   ],
   "source": [
    "#Building a system\n",
    "\n",
    "b = phoebe.Bundle.default_binary()\n",
    "print (b.hierarchy)\n",
    "print(\" \")\n",
    "\n",
    "#for a contact binary, use:\n",
    "b = phoebe.default_binary(contact_binary=True)\n",
    "print b.hierarchy"
   ]
  },
  {
   "cell_type": "code",
   "execution_count": 5,
   "metadata": {
    "scrolled": true
   },
   "outputs": [
    {
     "data": {
      "text/plain": [
       "<ParameterSet: 17 parameters | qualifiers: dpdt, mean_anom, asini, ecc, dperdt, period, long_an, q, t0_supconj, per0, sma, esinw, t0_ref, freq, incl, ecosw, t0_perpass>"
      ]
     },
     "execution_count": 5,
     "metadata": {},
     "output_type": "execute_result"
    }
   ],
   "source": [
    "#to add components manually, you can use \"add_component\"\n",
    "b = phoebe.Bundle()\n",
    "b.add_component(phoebe.component.star, component='primary')\n",
    "b.add_component('star', component='secondary')\n",
    "\n",
    "\n",
    "#can also use \"add_star\" and \"add_orbit\"\n",
    "b.add_star('extrastarforfun', teff=6000)\n",
    "b.add_orbit('binary')"
   ]
  },
  {
   "cell_type": "code",
   "execution_count": 6,
   "metadata": {
    "scrolled": true
   },
   "outputs": [],
   "source": [
    "#now to set the hierarchey of this system:\n",
    "b.set_hierarchy(phoebe.hierarchy.binaryorbit, b['binary'], b['primary'], b['secondary'])\n",
    "\n",
    "#you can also do this using string parameters:\n",
    "b.set_hierarchy('orbit:binary(star:primary, star:secondary)')"
   ]
  },
  {
   "cell_type": "code",
   "execution_count": 7,
   "metadata": {
    "scrolled": true
   },
   "outputs": [
    {
     "name": "stdout",
     "output_type": "stream",
     "text": [
      "test.phoebe\n",
      "[\r\n",
      "{\r\n",
      "\"Class\": \"FloatParameter\",\r\n",
      "\"context\": \"system\",\r\n",
      "\"copy_for\": false,\r\n",
      "\"default_unit\": \"d\",\r\n",
      "\"description\": \"Time at which all values are provided\",\r\n",
      "\"limits\": [\r\n",
      "null,\r\n",
      "null\r\n",
      "],\r\n",
      "\"qualifier\": \"t0\",\r\n",
      "\"value\": 0.0\r\n",
      "},\r\n",
      "{\r\n",
      "\"Class\": \"FloatParameter\",\r\n",
      "\"context\": \"system\",\r\n",
      "\"copy_for\": false,\r\n",
      "\"default_unit\": \"deg\",\r\n",
      "\"description\": \"Right ascension\",\r\n",
      "\"limits\": [\r\n",
      "null,\r\n",
      "null\r\n",
      "],\r\n",
      "\"qualifier\": \"ra\",\r\n",
      "\"value\": 0.0\r\n",
      "},\r\n",
      "{\r\n",
      "\"Class\": \"FloatParameter\",\r\n",
      "\"context\": \"system\",\r\n"
     ]
    }
   ],
   "source": [
    "# saving files you can use \"save\" command which produces JSON-formatted files\n",
    "\n",
    "b['incl@orbit'] = 56.789\n",
    "\n",
    "print b.save('test.phoebe')\n",
    "\n",
    "#you can view 1st 30 lines of saved file like so:\n",
    "!head -n 30 test.phoebe"
   ]
  },
  {
   "cell_type": "code",
   "execution_count": 8,
   "metadata": {
    "scrolled": true
   },
   "outputs": [
    {
     "name": "stdout",
     "output_type": "stream",
     "text": [
      "56.789\n"
     ]
    }
   ],
   "source": [
    "#loading exisiting bundles:\n",
    "b2 = phoebe.Bundle.open('test.phoebe')\n",
    "print b2.get_value('incl@orbit')"
   ]
  },
  {
   "cell_type": "code",
   "execution_count": 9,
   "metadata": {
    "scrolled": true
   },
   "outputs": [
    {
     "name": "stdout",
     "output_type": "stream",
     "text": [
      " \n",
      "Constrains (qualifier): mass\n",
      "Expression in solar units (value): (39.478418 * ({sma@binary@component} ** 3.000000)) / ((({period@binary@component} ** 2.000000) * (1.000000 + {q@binary@component})) * 2942.206217504418873431859537959099)\n",
      "Current Result (result): 0.998813135806 solMass\n",
      " \n",
      "0.998813135806\n"
     ]
    }
   ],
   "source": [
    "#applying constraints\n",
    "\n",
    "# what are the current constraints on our system?\n",
    "b.filter(context='constraint')\n",
    "print(\" \")\n",
    "\n",
    "#let's check a specific constraint: primary star's mass\n",
    "print b['constraint']['primary']['mass']\n",
    "print(\" \")\n",
    "# or\n",
    "print b.get_value('mass@primary@component')"
   ]
  },
  {
   "cell_type": "code",
   "execution_count": 10,
   "metadata": {
    "scrolled": true
   },
   "outputs": [
    {
     "name": "stdout",
     "output_type": "stream",
     "text": [
      "Constrains (qualifier): asini\n",
      "Expression in solar units (value): {sma@binary@component} * (sin({incl@binary@component}))\n",
      "Current Result (result): 4.43429361927 solRad\n",
      " \n",
      "Constrains (qualifier): esinw\n",
      "Expression in solar units (value): {ecc@binary@component} * (sin({per0@binary@component}))\n",
      "Current Result (result): 0.0\n",
      " \n",
      "Constrains (qualifier): ecosw\n",
      "Expression in solar units (value): {ecc@binary@component} * (cos({per0@binary@component}))\n",
      "Current Result (result): 0.0\n",
      " \n",
      "Constrains (qualifier): t0_perpass\n",
      "Expression in solar units (value): t0_supconj_to_perpass({t0_supconj@binary@component}, {period@binary@component}, {ecc@binary@component}, {per0@binary@component})\n",
      "Current Result (result): -0.25 d\n",
      " \n",
      "ParameterSet: 4 parameters\n",
      "         freq@primary@constraint: 6.283185 / {period@primary@component}\n",
      "       freq@secondary@constraint: 6.283185 / {period@secondary@component}\n",
      "  freq@extrastarforfun@constr...: 6.283185 / {period@extrastarforfun@component}\n",
      "          freq@binary@constraint: 6.283185 / {period@binary@component}\n",
      " \n",
      " \n",
      "ParameterSet: 2 parameters\n",
      "          sma@primary@constraint: {sma@binary@component} / (1.000000 + (1.000000 / {q@binary@component}))\n",
      "        sma@secondary@constraint: {sma@binary@component} / (1.000000 + {q@binary@component})\n",
      "Constrains (qualifier): sma\n",
      "Expression in solar units (value): {sma@binary@component} / (1.000000 + (1.000000 / {q@binary@component}))\n",
      "Current Result (result): 2.65 solRad\n",
      " \n",
      "ParameterSet: 2 parameters\n",
      "   requiv_max@primary@constraint: requiv_L1({q@binary@component}, {syncpar@primary@component}, {ecc@binary@component}, {sma@binary@component}, {incl@primary@component}, {long_an@primary@component}, {incl@binary@component}, {long_an@binary@component}, 1)\n",
      "  requiv_max@secondary@constr...: requiv_L1({q@binary@component}, {syncpar@secondary@component}, {ecc@binary@component}, {sma@binary@component}, {incl@secondary@component}, {long_an@secondary@component}, {incl@binary@component}, {long_an@binary@component}, 2)\n",
      "Constrains (qualifier): requiv_max\n",
      "Expression in solar units (value): requiv_L1({q@binary@component}, {syncpar@primary@component}, {ecc@binary@component}, {sma@binary@component}, {incl@primary@component}, {long_an@primary@component}, {incl@binary@component}, {long_an@binary@component}, 1)\n",
      "Current Result (result): 2.01327517654 solRad\n",
      " \n",
      "ParameterSet: 2 parameters\n",
      "       period@primary@constraint: {period@binary@component} / {syncpar@primary@component}\n",
      "     period@secondary@constraint: {period@binary@component} / {syncpar@secondary@component}\n",
      "Constrains (qualifier): period\n",
      "Expression in solar units (value): {period@binary@component} / {syncpar@primary@component}\n",
      "Current Result (result): 1.0 d\n",
      " \n",
      "Constrains (qualifier): incl\n",
      "Expression in solar units (value): {incl@binary@component} + {pitch@primary@component}\n",
      "Current Result (result): 56.789 deg\n",
      " \n"
     ]
    },
    {
     "data": {
      "text/plain": [
       "<ConstraintParameter: {long_an@primary@component} = {long_an@binary@component} + {yaw@primary@component} (solar units) => 0.0 deg>"
      ]
     },
     "execution_count": 10,
     "metadata": {},
     "output_type": "execute_result"
    }
   ],
   "source": [
    "# there are a number of other built-in constraints:\n",
    "\n",
    "# a*sin(i)\n",
    "print b['asini@constraint']\n",
    "print(\" \")\n",
    "\n",
    "# e*sin(w), e*cos(w)\n",
    "print b['esinw@constraint']\n",
    "print(\" \")\n",
    "print b['ecosw@constraint']\n",
    "\n",
    "# t0\n",
    "print(\" \")\n",
    "print b['t0_perpass@constraint']\n",
    "\n",
    "#frequency\n",
    "print(\" \")\n",
    "print b['freq@constraint']\n",
    "\n",
    "# mass\n",
    "print(\" \")\n",
    "b['mass@constraint']\n",
    "\n",
    "# semi-major axis\n",
    "print(\" \")\n",
    "print b['sma@constraint']\n",
    "print b['sma@primary@constraint']\n",
    "\n",
    "# maxium equivalent radius (for a detached system)\n",
    "print(\" \")\n",
    "print b['requiv_max@constraint']\n",
    "print b['requiv_max@primary@constraint']\n",
    "\n",
    "print(\" \")\n",
    "# rotation period \n",
    "print b['period@constraint']\n",
    "print b['period@primary@constraint']\n",
    "\n",
    "print(\" \")\n",
    "# pitch constrains the relation between the orbital and rotational inclination \n",
    "print b['incl@primary@constraint']\n",
    "print(\" \")\n",
    "\n",
    "# yaw constrains the relation between the orbital and rotational long_an\n",
    "b['long_an@primary@constraint']"
   ]
  },
  {
   "cell_type": "code",
   "execution_count": 11,
   "metadata": {
    "scrolled": true
   },
   "outputs": [
    {
     "name": "stdout",
     "output_type": "stream",
     "text": [
      "M1: 1.10979237312, M2: 0.887833898494\n",
      "switching \n"
     ]
    },
    {
     "name": "stderr",
     "output_type": "stream",
     "text": [
      "Tue, 29 Oct 2019 15:38 BUNDLE       INFO    flipping constraint 'mass@secondary@constraint' to solve for 'period'\n"
     ]
    },
    {
     "name": "stdout",
     "output_type": "stream",
     "text": [
      "M1: 0.887833898494, M2: 1.10979237312\n",
      " \n",
      "M1: 0.887833898494, M2: 1.10979237312, period: 1.0, q: 0.8\n",
      "switching back to original\n",
      "M1: 0.887833898494, M2: 1.10979237312, period: 1.0, q: 0.8\n",
      " \n",
      "M1: 0.8, M2: 1.0, period: 1.05346683532, q: 0.8\n"
     ]
    }
   ],
   "source": [
    "# changing hierarchies\n",
    "\n",
    "# For example, the masses depend on the period and semi-major axis of the \n",
    "# parent orbit but also depend on the mass-ratio (q) which is defined as \n",
    "# the primary mass over secondary mass. For this reason, changing the roles \n",
    "# of the primary and secondary components should be reflected in the masses \n",
    "# (so long as q remains fixed). In order to show this example, let's set the \n",
    "# mass-ratio to be non-unity.\n",
    "\n",
    "b.set_value('q', 0.8)\n",
    "\n",
    "# Here the star with component tag 'primary' is actually the primary component \n",
    "# in the hierarchy, so should have the LARGER mass (for a q < 1.0).\n",
    "\n",
    "print \"M1: {}, M2: {}\".format(b.get_value('mass@primary@component'),\n",
    "                              b.get_value('mass@secondary@component'))\n",
    "\n",
    "print \"switching \"\n",
    "b.set_hierarchy('orbit:binary(star:secondary, star:primary)')\n",
    "print \"M1: {}, M2: {}\".format(b.get_value('mass@primary@component'),\n",
    "                              b.get_value('mass@secondary@component'))\n",
    "\n",
    "print (\" \")\n",
    "print \"M1: {}, M2: {}, period: {}, q: {}\".format(b.get_value('mass@primary@component'),\n",
    "                                                 b.get_value('mass@secondary@component'),\n",
    "                                                 b.get_value('period@binary@component'),\n",
    "                                                 b.get_value('q@binary@component'))\n",
    "\n",
    "print (\"switching back to original\")\n",
    "b.flip_constraint('mass@secondary@constraint', 'period')\n",
    "print \"M1: {}, M2: {}, period: {}, q: {}\".format(b.get_value('mass@primary@component'),\n",
    "                                                 b.get_value('mass@secondary@component'),\n",
    "                                                 b.get_value('period@binary@component'),\n",
    "                                                 b.get_value('q@binary@component'))\n",
    "\n",
    "print(\" \")\n",
    "b.set_value('mass@secondary@component', 1.0)\n",
    "print \"M1: {}, M2: {}, period: {}, q: {}\".format(b.get_value('mass@primary@component'),\n",
    "                                                 b.get_value('mass@secondary@component'),\n",
    "                                                 b.get_value('period@binary@component'),\n",
    "                                                 b.get_value('q@binary@component'))"
   ]
  },
  {
   "cell_type": "code",
   "execution_count": 12,
   "metadata": {
    "scrolled": true
   },
   "outputs": [
    {
     "name": "stdout",
     "output_type": "stream",
     "text": [
      "480\n",
      "51\n"
     ]
    },
    {
     "name": "stderr",
     "output_type": "stream",
     "text": [
      "Tue, 29 Oct 2019 15:38 BUNDLE       INFO    running phoebe backend to create 'latest' model\n",
      "Tue, 29 Oct 2019 15:38 PASSBANDS    INFO    loading Johnson:V passband\n"
     ]
    },
    {
     "data": {
      "text/plain": [
       "<ParameterSet: 324 parameters | kinds: mesh, orb, lc>"
      ]
     },
     "execution_count": 12,
     "metadata": {},
     "output_type": "execute_result"
    }
   ],
   "source": [
    "# simulating data sets\n",
    "\n",
    "ndays = 20 #days\n",
    "cadence= 1 #take measurement once an hour\n",
    "pts_per_day = 24*cadence #data points per day\n",
    "start=0.0\n",
    "stop=ndays\n",
    "stepsize=ndays*pts_per_day\n",
    "times = np.linspace(start, stop, stepsize)\n",
    "\n",
    "print(len(times))\n",
    "print(len(np.linspace(0,1,51)))\n",
    "\n",
    "times=np.linspace(0,1,51)\n",
    "b=phoebe.default_binary()\n",
    "\n",
    "b.add_dataset('lc', times=times, dataset='lc01')\n",
    "b.add_dataset('orb', times=times, dataset='orb01')\n",
    "b.add_dataset('mesh', times=times, dataset='mesh01', columns=['teffs'])\n",
    "\n",
    "# b.run_compute() #faster?\n",
    "b.run_compute(irrad_method='none')"
   ]
  },
  {
   "cell_type": "code",
   "execution_count": 13,
   "metadata": {
    "scrolled": true
   },
   "outputs": [
    {
     "name": "stderr",
     "output_type": "stream",
     "text": [
      "Tue, 29 Oct 2019 15:39 PARAMETERS   INFO    calling autofig.plot(i=<data ((51,))>, label=lc01, y=<data ((51,))>, axpos=111, xlabel=time, ylabel=flux, marker=none, x=<data ((51,))>, z=0)\n",
      "Tue, 29 Oct 2019 15:39 PARAMETERS   INFO    no times were providing, so defaulting to animate over all dataset times\n",
      "Tue, 29 Oct 2019 15:39 PARAMETERS   INFO    calling autofig.animate(i=[0.0, 0.02, 0.04, 0.06, 0.08, 0.1, 0.12, 0.14, 0.16, 0.18, 0.2, 0.22, 0.24, 0.26, 0.28, 0.3, 0.32, 0.34, 0.36, 0.38, 0.4, 0.42, 0.44, 0.46, 0.48, 0.5, 0.52, 0.54, 0.56, 0.58, 0.6, 0.62, 0.64, 0.66, 0.68, 0.7, 0.7000000000000001, 0.72, 0.74, 0.76, 0.78, 0.8, 0.82, 0.8200000000000001, 0.84, 0.86, 0.88, 0.9, 0.92, 0.94, 0.9400000000000001, 0.96, 0.98, 1.0], draw_sidebars=False, draw_title=True, tight_layout=False, save=animation_binary_complete.gif, show=False, save_kwargs={'writer': 'imagemagick'})\n",
      "Tue, 29 Oct 2019 15:39 matplotlib.animation INFO    Animation.save using <class 'matplotlib.animation.ImageMagickWriter'>\n",
      "Tue, 29 Oct 2019 15:39 matplotlib.animation INFO    MovieWriter.run: running command: ['convert', u'-size', u'792x288', u'-depth', u'8', u'-delay', '10.0', u'-loop', u'0', u'rgba:-', 'animation_binary_complete.gif']\n"
     ]
    },
    {
     "data": {
      "image/png": "[encoded data removed]",
      "text/plain": [
       "<Figure size 792x288 with 1 Axes>"
      ]
     },
     "metadata": {
      "needs_background": "light"
     },
     "output_type": "display_data"
    }
   ],
   "source": [
    "fig = plt.figure(figsize=(11,4))\n",
    "b['lc01@model'].plot(axpos=111)\n",
    "\n",
    "\n",
    "b.savefig('animation_binary_complete.gif', fig=fig, tight_layouot=True, draw_sidebars=False, animate=True, save_kwargs={'writer': 'imagemagick'})\n",
    "plt.show()"
   ]
  },
  {
   "cell_type": "code",
   "execution_count": 14,
   "metadata": {
    "scrolled": false
   },
   "outputs": [
    {
     "name": "stderr",
     "output_type": "stream",
     "text": [
      "Tue, 29 Oct 2019 15:39 PARAMETERS   INFO    calling autofig.mesh(equal_aspect=True, i=0.3, zlabel=w, ec=black, label=primary@mesh01, y=<data ((1738, 3))>, fc=white, save_kwargs={'writer': 'imagemagick'}, itol=1e-06, ylabel=v, marker=none, x=<data ((1738, 3))>, z=<data ((1738, 3))>, xlabel=u)\n",
      "Tue, 29 Oct 2019 15:39 PARAMETERS   INFO    calling autofig.mesh(equal_aspect=True, i=0.3, zlabel=w, ec=black, label=secondary@mesh01, y=<data ((1738, 3))>, fc=white, save_kwargs={'writer': 'imagemagick'}, itol=1e-06, ylabel=v, marker=none, x=<data ((1738, 3))>, z=<data ((1738, 3))>, xlabel=u)\n",
      "Tue, 29 Oct 2019 15:39 PARAMETERS   INFO    calling autofig.mesh(equal_aspect=True, i=0.4, zlabel=w, ec=black, label=primary@mesh01, y=<data ((1738, 3))>, fc=white, save_kwargs={'writer': 'imagemagick'}, itol=1e-06, ylabel=v, marker=none, x=<data ((1738, 3))>, z=<data ((1738, 3))>, xlabel=u)\n",
      "Tue, 29 Oct 2019 15:39 PARAMETERS   INFO    calling autofig.mesh(equal_aspect=True, i=0.4, zlabel=w, ec=black, label=secondary@mesh01, y=<data ((1738, 3))>, fc=white, save_kwargs={'writer': 'imagemagick'}, itol=1e-06, ylabel=v, marker=none, x=<data ((1738, 3))>, z=<data ((1738, 3))>, xlabel=u)\n",
      "Tue, 29 Oct 2019 15:39 PARAMETERS   INFO    calling autofig.mesh(equal_aspect=True, i=0.78, zlabel=w, ec=black, label=primary@mesh01, y=<data ((1738, 3))>, fc=white, save_kwargs={'writer': 'imagemagick'}, itol=1e-06, ylabel=v, marker=none, x=<data ((1738, 3))>, z=<data ((1738, 3))>, xlabel=u)\n",
      "Tue, 29 Oct 2019 15:39 PARAMETERS   INFO    calling autofig.mesh(equal_aspect=True, i=0.78, zlabel=w, ec=black, label=secondary@mesh01, y=<data ((1738, 3))>, fc=white, save_kwargs={'writer': 'imagemagick'}, itol=1e-06, ylabel=v, marker=none, x=<data ((1738, 3))>, z=<data ((1738, 3))>, xlabel=u)\n",
      "Tue, 29 Oct 2019 15:39 PARAMETERS   INFO    calling autofig.mesh(equal_aspect=True, i=0.44, zlabel=w, ec=black, label=primary@mesh01, y=<data ((1738, 3))>, fc=white, save_kwargs={'writer': 'imagemagick'}, itol=1e-06, ylabel=v, marker=none, x=<data ((1738, 3))>, z=<data ((1738, 3))>, xlabel=u)\n",
      "Tue, 29 Oct 2019 15:39 PARAMETERS   INFO    calling autofig.mesh(equal_aspect=True, i=0.44, zlabel=w, ec=black, label=secondary@mesh01, y=<data ((1738, 3))>, fc=white, save_kwargs={'writer': 'imagemagick'}, itol=1e-06, ylabel=v, marker=none, x=<data ((1738, 3))>, z=<data ((1738, 3))>, xlabel=u)\n",
      "Tue, 29 Oct 2019 15:39 PARAMETERS   INFO    calling autofig.mesh(equal_aspect=True, i=0.86, zlabel=w, ec=black, label=primary@mesh01, y=<data ((1738, 3))>, fc=white, save_kwargs={'writer': 'imagemagick'}, itol=1e-06, ylabel=v, marker=none, x=<data ((1738, 3))>, z=<data ((1738, 3))>, xlabel=u)\n",
      "Tue, 29 Oct 2019 15:39 PARAMETERS   INFO    calling autofig.mesh(equal_aspect=True, i=0.86, zlabel=w, ec=black, label=secondary@mesh01, y=<data ((1738, 3))>, fc=white, save_kwargs={'writer': 'imagemagick'}, itol=1e-06, ylabel=v, marker=none, x=<data ((1738, 3))>, z=<data ((1738, 3))>, xlabel=u)\n",
      "Tue, 29 Oct 2019 15:39 PARAMETERS   INFO    calling autofig.mesh(equal_aspect=True, i=0.38, zlabel=w, ec=black, label=primary@mesh01, y=<data ((1738, 3))>, fc=white, save_kwargs={'writer': 'imagemagick'}, itol=1e-06, ylabel=v, marker=none, x=<data ((1738, 3))>, z=<data ((1738, 3))>, xlabel=u)\n",
      "Tue, 29 Oct 2019 15:39 PARAMETERS   INFO    calling autofig.mesh(equal_aspect=True, i=0.38, zlabel=w, ec=black, label=secondary@mesh01, y=<data ((1738, 3))>, fc=white, save_kwargs={'writer': 'imagemagick'}, itol=1e-06, ylabel=v, marker=none, x=<data ((1738, 3))>, z=<data ((1738, 3))>, xlabel=u)\n",
      "Tue, 29 Oct 2019 15:39 PARAMETERS   INFO    calling autofig.mesh(equal_aspect=True, i=0.0, zlabel=w, ec=black, label=primary@mesh01, y=<data ((1738, 3))>, fc=white, save_kwargs={'writer': 'imagemagick'}, itol=1e-06, ylabel=v, marker=none, x=<data ((1738, 3))>, z=<data ((1738, 3))>, xlabel=u)\n",
      "Tue, 29 Oct 2019 15:39 PARAMETERS   INFO    calling autofig.mesh(equal_aspect=True, i=0.0, zlabel=w, ec=black, label=secondary@mesh01, y=<data ((1738, 3))>, fc=white, save_kwargs={'writer': 'imagemagick'}, itol=1e-06, ylabel=v, marker=none, x=<data ((1738, 3))>, z=<data ((1738, 3))>, xlabel=u)\n",
      "Tue, 29 Oct 2019 15:39 PARAMETERS   INFO    calling autofig.mesh(equal_aspect=True, i=0.92, zlabel=w, ec=black, label=primary@mesh01, y=<data ((1738, 3))>, fc=white, save_kwargs={'writer': 'imagemagick'}, itol=1e-06, ylabel=v, marker=none, x=<data ((1738, 3))>, z=<data ((1738, 3))>, xlabel=u)\n",
      "Tue, 29 Oct 2019 15:39 PARAMETERS   INFO    calling autofig.mesh(equal_aspect=True, i=0.92, zlabel=w, ec=black, label=secondary@mesh01, y=<data ((1738, 3))>, fc=white, save_kwargs={'writer': 'imagemagick'}, itol=1e-06, ylabel=v, marker=none, x=<data ((1738, 3))>, z=<data ((1738, 3))>, xlabel=u)\n",
      "Tue, 29 Oct 2019 15:39 PARAMETERS   INFO    calling autofig.mesh(equal_aspect=True, i=0.22, zlabel=w, ec=black, label=primary@mesh01, y=<data ((1738, 3))>, fc=white, save_kwargs={'writer': 'imagemagick'}, itol=1e-06, ylabel=v, marker=none, x=<data ((1738, 3))>, z=<data ((1738, 3))>, xlabel=u)\n",
      "Tue, 29 Oct 2019 15:39 PARAMETERS   INFO    calling autofig.mesh(equal_aspect=True, i=0.22, zlabel=w, ec=black, label=secondary@mesh01, y=<data ((1738, 3))>, fc=white, save_kwargs={'writer': 'imagemagick'}, itol=1e-06, ylabel=v, marker=none, x=<data ((1738, 3))>, z=<data ((1738, 3))>, xlabel=u)\n",
      "Tue, 29 Oct 2019 15:39 PARAMETERS   INFO    calling autofig.mesh(equal_aspect=True, i=0.52, zlabel=w, ec=black, label=primary@mesh01, y=<data ((1738, 3))>, fc=white, save_kwargs={'writer': 'imagemagick'}, itol=1e-06, ylabel=v, marker=none, x=<data ((1738, 3))>, z=<data ((1738, 3))>, xlabel=u)\n",
      "Tue, 29 Oct 2019 15:39 PARAMETERS   INFO    calling autofig.mesh(equal_aspect=True, i=0.52, zlabel=w, ec=black, label=secondary@mesh01, y=<data ((1738, 3))>, fc=white, save_kwargs={'writer': 'imagemagick'}, itol=1e-06, ylabel=v, marker=none, x=<data ((1738, 3))>, z=<data ((1738, 3))>, xlabel=u)\n",
      "Tue, 29 Oct 2019 15:39 PARAMETERS   INFO    calling autofig.mesh(equal_aspect=True, i=0.26, zlabel=w, ec=black, label=primary@mesh01, y=<data ((1738, 3))>, fc=white, save_kwargs={'writer': 'imagemagick'}, itol=1e-06, ylabel=v, marker=none, x=<data ((1738, 3))>, z=<data ((1738, 3))>, xlabel=u)\n",
      "Tue, 29 Oct 2019 15:39 PARAMETERS   INFO    calling autofig.mesh(equal_aspect=True, i=0.26, zlabel=w, ec=black, label=secondary@mesh01, y=<data ((1738, 3))>, fc=white, save_kwargs={'writer': 'imagemagick'}, itol=1e-06, ylabel=v, marker=none, x=<data ((1738, 3))>, z=<data ((1738, 3))>, xlabel=u)\n",
      "Tue, 29 Oct 2019 15:39 PARAMETERS   INFO    calling autofig.mesh(equal_aspect=True, i=0.24, zlabel=w, ec=black, label=primary@mesh01, y=<data ((1738, 3))>, fc=white, save_kwargs={'writer': 'imagemagick'}, itol=1e-06, ylabel=v, marker=none, x=<data ((1738, 3))>, z=<data ((1738, 3))>, xlabel=u)\n",
      "Tue, 29 Oct 2019 15:39 PARAMETERS   INFO    calling autofig.mesh(equal_aspect=True, i=0.24, zlabel=w, ec=black, label=secondary@mesh01, y=<data ((1738, 3))>, fc=white, save_kwargs={'writer': 'imagemagick'}, itol=1e-06, ylabel=v, marker=none, x=<data ((1738, 3))>, z=<data ((1738, 3))>, xlabel=u)\n",
      "Tue, 29 Oct 2019 15:39 PARAMETERS   INFO    calling autofig.mesh(equal_aspect=True, i=0.84, zlabel=w, ec=black, label=primary@mesh01, y=<data ((1738, 3))>, fc=white, save_kwargs={'writer': 'imagemagick'}, itol=1e-06, ylabel=v, marker=none, x=<data ((1738, 3))>, z=<data ((1738, 3))>, xlabel=u)\n",
      "Tue, 29 Oct 2019 15:39 PARAMETERS   INFO    calling autofig.mesh(equal_aspect=True, i=0.84, zlabel=w, ec=black, label=secondary@mesh01, y=<data ((1738, 3))>, fc=white, save_kwargs={'writer': 'imagemagick'}, itol=1e-06, ylabel=v, marker=none, x=<data ((1738, 3))>, z=<data ((1738, 3))>, xlabel=u)\n",
      "Tue, 29 Oct 2019 15:39 PARAMETERS   INFO    calling autofig.mesh(equal_aspect=True, i=0.16, zlabel=w, ec=black, label=primary@mesh01, y=<data ((1738, 3))>, fc=white, save_kwargs={'writer': 'imagemagick'}, itol=1e-06, ylabel=v, marker=none, x=<data ((1738, 3))>, z=<data ((1738, 3))>, xlabel=u)\n",
      "Tue, 29 Oct 2019 15:39 PARAMETERS   INFO    calling autofig.mesh(equal_aspect=True, i=0.16, zlabel=w, ec=black, label=secondary@mesh01, y=<data ((1738, 3))>, fc=white, save_kwargs={'writer': 'imagemagick'}, itol=1e-06, ylabel=v, marker=none, x=<data ((1738, 3))>, z=<data ((1738, 3))>, xlabel=u)\n"
     ]
    },
    {
     "name": "stderr",
     "output_type": "stream",
     "text": [
      "Tue, 29 Oct 2019 15:39 PARAMETERS   INFO    calling autofig.mesh(equal_aspect=True, i=0.42, zlabel=w, ec=black, label=primary@mesh01, y=<data ((1738, 3))>, fc=white, save_kwargs={'writer': 'imagemagick'}, itol=1e-06, ylabel=v, marker=none, x=<data ((1738, 3))>, z=<data ((1738, 3))>, xlabel=u)\n",
      "Tue, 29 Oct 2019 15:39 PARAMETERS   INFO    calling autofig.mesh(equal_aspect=True, i=0.42, zlabel=w, ec=black, label=secondary@mesh01, y=<data ((1738, 3))>, fc=white, save_kwargs={'writer': 'imagemagick'}, itol=1e-06, ylabel=v, marker=none, x=<data ((1738, 3))>, z=<data ((1738, 3))>, xlabel=u)\n",
      "Tue, 29 Oct 2019 15:39 PARAMETERS   INFO    calling autofig.mesh(equal_aspect=True, i=0.46, zlabel=w, ec=black, label=primary@mesh01, y=<data ((1738, 3))>, fc=white, save_kwargs={'writer': 'imagemagick'}, itol=1e-06, ylabel=v, marker=none, x=<data ((1738, 3))>, z=<data ((1738, 3))>, xlabel=u)\n",
      "Tue, 29 Oct 2019 15:39 PARAMETERS   INFO    calling autofig.mesh(equal_aspect=True, i=0.46, zlabel=w, ec=black, label=secondary@mesh01, y=<data ((1738, 3))>, fc=white, save_kwargs={'writer': 'imagemagick'}, itol=1e-06, ylabel=v, marker=none, x=<data ((1738, 3))>, z=<data ((1738, 3))>, xlabel=u)\n",
      "Tue, 29 Oct 2019 15:39 PARAMETERS   INFO    calling autofig.mesh(equal_aspect=True, i=0.34, zlabel=w, ec=black, label=primary@mesh01, y=<data ((1738, 3))>, fc=white, save_kwargs={'writer': 'imagemagick'}, itol=1e-06, ylabel=v, marker=none, x=<data ((1738, 3))>, z=<data ((1738, 3))>, xlabel=u)\n",
      "Tue, 29 Oct 2019 15:39 PARAMETERS   INFO    calling autofig.mesh(equal_aspect=True, i=0.34, zlabel=w, ec=black, label=secondary@mesh01, y=<data ((1738, 3))>, fc=white, save_kwargs={'writer': 'imagemagick'}, itol=1e-06, ylabel=v, marker=none, x=<data ((1738, 3))>, z=<data ((1738, 3))>, xlabel=u)\n",
      "Tue, 29 Oct 2019 15:39 PARAMETERS   INFO    calling autofig.mesh(equal_aspect=True, i=0.2, zlabel=w, ec=black, label=primary@mesh01, y=<data ((1738, 3))>, fc=white, save_kwargs={'writer': 'imagemagick'}, itol=1e-06, ylabel=v, marker=none, x=<data ((1738, 3))>, z=<data ((1738, 3))>, xlabel=u)\n",
      "Tue, 29 Oct 2019 15:39 PARAMETERS   INFO    calling autofig.mesh(equal_aspect=True, i=0.2, zlabel=w, ec=black, label=secondary@mesh01, y=<data ((1738, 3))>, fc=white, save_kwargs={'writer': 'imagemagick'}, itol=1e-06, ylabel=v, marker=none, x=<data ((1738, 3))>, z=<data ((1738, 3))>, xlabel=u)\n",
      "Tue, 29 Oct 2019 15:39 PARAMETERS   INFO    calling autofig.mesh(equal_aspect=True, i=0.72, zlabel=w, ec=black, label=primary@mesh01, y=<data ((1738, 3))>, fc=white, save_kwargs={'writer': 'imagemagick'}, itol=1e-06, ylabel=v, marker=none, x=<data ((1738, 3))>, z=<data ((1738, 3))>, xlabel=u)\n",
      "Tue, 29 Oct 2019 15:39 PARAMETERS   INFO    calling autofig.mesh(equal_aspect=True, i=0.72, zlabel=w, ec=black, label=secondary@mesh01, y=<data ((1738, 3))>, fc=white, save_kwargs={'writer': 'imagemagick'}, itol=1e-06, ylabel=v, marker=none, x=<data ((1738, 3))>, z=<data ((1738, 3))>, xlabel=u)\n",
      "Tue, 29 Oct 2019 15:39 PARAMETERS   INFO    calling autofig.mesh(equal_aspect=True, i=0.6, zlabel=w, ec=black, label=primary@mesh01, y=<data ((1738, 3))>, fc=white, save_kwargs={'writer': 'imagemagick'}, itol=1e-06, ylabel=v, marker=none, x=<data ((1738, 3))>, z=<data ((1738, 3))>, xlabel=u)\n",
      "Tue, 29 Oct 2019 15:39 PARAMETERS   INFO    calling autofig.mesh(equal_aspect=True, i=0.6, zlabel=w, ec=black, label=secondary@mesh01, y=<data ((1738, 3))>, fc=white, save_kwargs={'writer': 'imagemagick'}, itol=1e-06, ylabel=v, marker=none, x=<data ((1738, 3))>, z=<data ((1738, 3))>, xlabel=u)\n",
      "Tue, 29 Oct 2019 15:39 PARAMETERS   INFO    calling autofig.mesh(equal_aspect=True, i=0.18, zlabel=w, ec=black, label=primary@mesh01, y=<data ((1738, 3))>, fc=white, save_kwargs={'writer': 'imagemagick'}, itol=1e-06, ylabel=v, marker=none, x=<data ((1738, 3))>, z=<data ((1738, 3))>, xlabel=u)\n",
      "Tue, 29 Oct 2019 15:39 PARAMETERS   INFO    calling autofig.mesh(equal_aspect=True, i=0.18, zlabel=w, ec=black, label=secondary@mesh01, y=<data ((1738, 3))>, fc=white, save_kwargs={'writer': 'imagemagick'}, itol=1e-06, ylabel=v, marker=none, x=<data ((1738, 3))>, z=<data ((1738, 3))>, xlabel=u)\n",
      "Tue, 29 Oct 2019 15:39 PARAMETERS   INFO    calling autofig.mesh(equal_aspect=True, i=0.06, zlabel=w, ec=black, label=primary@mesh01, y=<data ((1738, 3))>, fc=white, save_kwargs={'writer': 'imagemagick'}, itol=1e-06, ylabel=v, marker=none, x=<data ((1738, 3))>, z=<data ((1738, 3))>, xlabel=u)\n",
      "Tue, 29 Oct 2019 15:39 PARAMETERS   INFO    calling autofig.mesh(equal_aspect=True, i=0.06, zlabel=w, ec=black, label=secondary@mesh01, y=<data ((1738, 3))>, fc=white, save_kwargs={'writer': 'imagemagick'}, itol=1e-06, ylabel=v, marker=none, x=<data ((1738, 3))>, z=<data ((1738, 3))>, xlabel=u)\n",
      "Tue, 29 Oct 2019 15:39 PARAMETERS   INFO    calling autofig.mesh(equal_aspect=True, i=0.7, zlabel=w, ec=black, label=primary@mesh01, y=<data ((1738, 3))>, fc=white, save_kwargs={'writer': 'imagemagick'}, itol=1e-06, ylabel=v, marker=none, x=<data ((1738, 3))>, z=<data ((1738, 3))>, xlabel=u)\n",
      "Tue, 29 Oct 2019 15:39 PARAMETERS   INFO    calling autofig.mesh(equal_aspect=True, i=0.7, zlabel=w, ec=black, label=secondary@mesh01, y=<data ((1738, 3))>, fc=white, save_kwargs={'writer': 'imagemagick'}, itol=1e-06, ylabel=v, marker=none, x=<data ((1738, 3))>, z=<data ((1738, 3))>, xlabel=u)\n",
      "Tue, 29 Oct 2019 15:39 PARAMETERS   INFO    calling autofig.mesh(equal_aspect=True, i=0.96, zlabel=w, ec=black, label=primary@mesh01, y=<data ((1738, 3))>, fc=white, save_kwargs={'writer': 'imagemagick'}, itol=1e-06, ylabel=v, marker=none, x=<data ((1738, 3))>, z=<data ((1738, 3))>, xlabel=u)\n",
      "Tue, 29 Oct 2019 15:39 PARAMETERS   INFO    calling autofig.mesh(equal_aspect=True, i=0.96, zlabel=w, ec=black, label=secondary@mesh01, y=<data ((1738, 3))>, fc=white, save_kwargs={'writer': 'imagemagick'}, itol=1e-06, ylabel=v, marker=none, x=<data ((1738, 3))>, z=<data ((1738, 3))>, xlabel=u)\n",
      "Tue, 29 Oct 2019 15:39 PARAMETERS   INFO    calling autofig.mesh(equal_aspect=True, i=0.1, zlabel=w, ec=black, label=primary@mesh01, y=<data ((1738, 3))>, fc=white, save_kwargs={'writer': 'imagemagick'}, itol=1e-06, ylabel=v, marker=none, x=<data ((1738, 3))>, z=<data ((1738, 3))>, xlabel=u)\n",
      "Tue, 29 Oct 2019 15:39 PARAMETERS   INFO    calling autofig.mesh(equal_aspect=True, i=0.1, zlabel=w, ec=black, label=secondary@mesh01, y=<data ((1738, 3))>, fc=white, save_kwargs={'writer': 'imagemagick'}, itol=1e-06, ylabel=v, marker=none, x=<data ((1738, 3))>, z=<data ((1738, 3))>, xlabel=u)\n",
      "Tue, 29 Oct 2019 15:39 PARAMETERS   INFO    calling autofig.mesh(equal_aspect=True, i=0.02, zlabel=w, ec=black, label=primary@mesh01, y=<data ((1738, 3))>, fc=white, save_kwargs={'writer': 'imagemagick'}, itol=1e-06, ylabel=v, marker=none, x=<data ((1738, 3))>, z=<data ((1738, 3))>, xlabel=u)\n",
      "Tue, 29 Oct 2019 15:39 PARAMETERS   INFO    calling autofig.mesh(equal_aspect=True, i=0.02, zlabel=w, ec=black, label=secondary@mesh01, y=<data ((1738, 3))>, fc=white, save_kwargs={'writer': 'imagemagick'}, itol=1e-06, ylabel=v, marker=none, x=<data ((1738, 3))>, z=<data ((1738, 3))>, xlabel=u)\n",
      "Tue, 29 Oct 2019 15:39 PARAMETERS   INFO    calling autofig.mesh(equal_aspect=True, i=0.32, zlabel=w, ec=black, label=primary@mesh01, y=<data ((1738, 3))>, fc=white, save_kwargs={'writer': 'imagemagick'}, itol=1e-06, ylabel=v, marker=none, x=<data ((1738, 3))>, z=<data ((1738, 3))>, xlabel=u)\n",
      "Tue, 29 Oct 2019 15:39 PARAMETERS   INFO    calling autofig.mesh(equal_aspect=True, i=0.32, zlabel=w, ec=black, label=secondary@mesh01, y=<data ((1738, 3))>, fc=white, save_kwargs={'writer': 'imagemagick'}, itol=1e-06, ylabel=v, marker=none, x=<data ((1738, 3))>, z=<data ((1738, 3))>, xlabel=u)\n",
      "Tue, 29 Oct 2019 15:39 PARAMETERS   INFO    calling autofig.mesh(equal_aspect=True, i=0.48, zlabel=w, ec=black, label=primary@mesh01, y=<data ((1738, 3))>, fc=white, save_kwargs={'writer': 'imagemagick'}, itol=1e-06, ylabel=v, marker=none, x=<data ((1738, 3))>, z=<data ((1738, 3))>, xlabel=u)\n",
      "Tue, 29 Oct 2019 15:39 PARAMETERS   INFO    calling autofig.mesh(equal_aspect=True, i=0.48, zlabel=w, ec=black, label=secondary@mesh01, y=<data ((1738, 3))>, fc=white, save_kwargs={'writer': 'imagemagick'}, itol=1e-06, ylabel=v, marker=none, x=<data ((1738, 3))>, z=<data ((1738, 3))>, xlabel=u)\n"
     ]
    },
    {
     "name": "stderr",
     "output_type": "stream",
     "text": [
      "Tue, 29 Oct 2019 15:39 PARAMETERS   INFO    calling autofig.mesh(equal_aspect=True, i=0.66, zlabel=w, ec=black, label=primary@mesh01, y=<data ((1738, 3))>, fc=white, save_kwargs={'writer': 'imagemagick'}, itol=1e-06, ylabel=v, marker=none, x=<data ((1738, 3))>, z=<data ((1738, 3))>, xlabel=u)\n",
      "Tue, 29 Oct 2019 15:39 PARAMETERS   INFO    calling autofig.mesh(equal_aspect=True, i=0.66, zlabel=w, ec=black, label=secondary@mesh01, y=<data ((1738, 3))>, fc=white, save_kwargs={'writer': 'imagemagick'}, itol=1e-06, ylabel=v, marker=none, x=<data ((1738, 3))>, z=<data ((1738, 3))>, xlabel=u)\n",
      "Tue, 29 Oct 2019 15:39 PARAMETERS   INFO    calling autofig.mesh(equal_aspect=True, i=0.82, zlabel=w, ec=black, label=primary@mesh01, y=<data ((1738, 3))>, fc=white, save_kwargs={'writer': 'imagemagick'}, itol=1e-06, ylabel=v, marker=none, x=<data ((1738, 3))>, z=<data ((1738, 3))>, xlabel=u)\n",
      "Tue, 29 Oct 2019 15:39 PARAMETERS   INFO    calling autofig.mesh(equal_aspect=True, i=0.82, zlabel=w, ec=black, label=secondary@mesh01, y=<data ((1738, 3))>, fc=white, save_kwargs={'writer': 'imagemagick'}, itol=1e-06, ylabel=v, marker=none, x=<data ((1738, 3))>, z=<data ((1738, 3))>, xlabel=u)\n",
      "Tue, 29 Oct 2019 15:39 PARAMETERS   INFO    calling autofig.mesh(equal_aspect=True, i=0.62, zlabel=w, ec=black, label=primary@mesh01, y=<data ((1738, 3))>, fc=white, save_kwargs={'writer': 'imagemagick'}, itol=1e-06, ylabel=v, marker=none, x=<data ((1738, 3))>, z=<data ((1738, 3))>, xlabel=u)\n",
      "Tue, 29 Oct 2019 15:39 PARAMETERS   INFO    calling autofig.mesh(equal_aspect=True, i=0.62, zlabel=w, ec=black, label=secondary@mesh01, y=<data ((1738, 3))>, fc=white, save_kwargs={'writer': 'imagemagick'}, itol=1e-06, ylabel=v, marker=none, x=<data ((1738, 3))>, z=<data ((1738, 3))>, xlabel=u)\n",
      "Tue, 29 Oct 2019 15:39 PARAMETERS   INFO    calling autofig.mesh(equal_aspect=True, i=0.9, zlabel=w, ec=black, label=primary@mesh01, y=<data ((1738, 3))>, fc=white, save_kwargs={'writer': 'imagemagick'}, itol=1e-06, ylabel=v, marker=none, x=<data ((1738, 3))>, z=<data ((1738, 3))>, xlabel=u)\n",
      "Tue, 29 Oct 2019 15:39 PARAMETERS   INFO    calling autofig.mesh(equal_aspect=True, i=0.9, zlabel=w, ec=black, label=secondary@mesh01, y=<data ((1738, 3))>, fc=white, save_kwargs={'writer': 'imagemagick'}, itol=1e-06, ylabel=v, marker=none, x=<data ((1738, 3))>, z=<data ((1738, 3))>, xlabel=u)\n",
      "Tue, 29 Oct 2019 15:39 PARAMETERS   INFO    calling autofig.mesh(equal_aspect=True, i=0.76, zlabel=w, ec=black, label=primary@mesh01, y=<data ((1738, 3))>, fc=white, save_kwargs={'writer': 'imagemagick'}, itol=1e-06, ylabel=v, marker=none, x=<data ((1738, 3))>, z=<data ((1738, 3))>, xlabel=u)\n",
      "Tue, 29 Oct 2019 15:39 PARAMETERS   INFO    calling autofig.mesh(equal_aspect=True, i=0.76, zlabel=w, ec=black, label=secondary@mesh01, y=<data ((1738, 3))>, fc=white, save_kwargs={'writer': 'imagemagick'}, itol=1e-06, ylabel=v, marker=none, x=<data ((1738, 3))>, z=<data ((1738, 3))>, xlabel=u)\n",
      "Tue, 29 Oct 2019 15:39 PARAMETERS   INFO    calling autofig.mesh(equal_aspect=True, i=0.5, zlabel=w, ec=black, label=primary@mesh01, y=<data ((1738, 3))>, fc=white, save_kwargs={'writer': 'imagemagick'}, itol=1e-06, ylabel=v, marker=none, x=<data ((1738, 3))>, z=<data ((1738, 3))>, xlabel=u)\n",
      "Tue, 29 Oct 2019 15:39 PARAMETERS   INFO    calling autofig.mesh(equal_aspect=True, i=0.5, zlabel=w, ec=black, label=secondary@mesh01, y=<data ((1738, 3))>, fc=white, save_kwargs={'writer': 'imagemagick'}, itol=1e-06, ylabel=v, marker=none, x=<data ((1738, 3))>, z=<data ((1738, 3))>, xlabel=u)\n",
      "Tue, 29 Oct 2019 15:39 PARAMETERS   INFO    calling autofig.mesh(equal_aspect=True, i=0.54, zlabel=w, ec=black, label=primary@mesh01, y=<data ((1738, 3))>, fc=white, save_kwargs={'writer': 'imagemagick'}, itol=1e-06, ylabel=v, marker=none, x=<data ((1738, 3))>, z=<data ((1738, 3))>, xlabel=u)\n",
      "Tue, 29 Oct 2019 15:39 PARAMETERS   INFO    calling autofig.mesh(equal_aspect=True, i=0.54, zlabel=w, ec=black, label=secondary@mesh01, y=<data ((1738, 3))>, fc=white, save_kwargs={'writer': 'imagemagick'}, itol=1e-06, ylabel=v, marker=none, x=<data ((1738, 3))>, z=<data ((1738, 3))>, xlabel=u)\n",
      "Tue, 29 Oct 2019 15:39 PARAMETERS   INFO    calling autofig.mesh(equal_aspect=True, i=0.98, zlabel=w, ec=black, label=primary@mesh01, y=<data ((1738, 3))>, fc=white, save_kwargs={'writer': 'imagemagick'}, itol=1e-06, ylabel=v, marker=none, x=<data ((1738, 3))>, z=<data ((1738, 3))>, xlabel=u)\n",
      "Tue, 29 Oct 2019 15:39 PARAMETERS   INFO    calling autofig.mesh(equal_aspect=True, i=0.98, zlabel=w, ec=black, label=secondary@mesh01, y=<data ((1738, 3))>, fc=white, save_kwargs={'writer': 'imagemagick'}, itol=1e-06, ylabel=v, marker=none, x=<data ((1738, 3))>, z=<data ((1738, 3))>, xlabel=u)\n",
      "Tue, 29 Oct 2019 15:39 PARAMETERS   INFO    calling autofig.mesh(equal_aspect=True, i=0.68, zlabel=w, ec=black, label=primary@mesh01, y=<data ((1738, 3))>, fc=white, save_kwargs={'writer': 'imagemagick'}, itol=1e-06, ylabel=v, marker=none, x=<data ((1738, 3))>, z=<data ((1738, 3))>, xlabel=u)\n",
      "Tue, 29 Oct 2019 15:39 PARAMETERS   INFO    calling autofig.mesh(equal_aspect=True, i=0.68, zlabel=w, ec=black, label=secondary@mesh01, y=<data ((1738, 3))>, fc=white, save_kwargs={'writer': 'imagemagick'}, itol=1e-06, ylabel=v, marker=none, x=<data ((1738, 3))>, z=<data ((1738, 3))>, xlabel=u)\n",
      "Tue, 29 Oct 2019 15:39 PARAMETERS   INFO    calling autofig.mesh(equal_aspect=True, i=0.58, zlabel=w, ec=black, label=primary@mesh01, y=<data ((1738, 3))>, fc=white, save_kwargs={'writer': 'imagemagick'}, itol=1e-06, ylabel=v, marker=none, x=<data ((1738, 3))>, z=<data ((1738, 3))>, xlabel=u)\n",
      "Tue, 29 Oct 2019 15:39 PARAMETERS   INFO    calling autofig.mesh(equal_aspect=True, i=0.58, zlabel=w, ec=black, label=secondary@mesh01, y=<data ((1738, 3))>, fc=white, save_kwargs={'writer': 'imagemagick'}, itol=1e-06, ylabel=v, marker=none, x=<data ((1738, 3))>, z=<data ((1738, 3))>, xlabel=u)\n",
      "Tue, 29 Oct 2019 15:39 PARAMETERS   INFO    calling autofig.mesh(equal_aspect=True, i=0.12, zlabel=w, ec=black, label=primary@mesh01, y=<data ((1738, 3))>, fc=white, save_kwargs={'writer': 'imagemagick'}, itol=1e-06, ylabel=v, marker=none, x=<data ((1738, 3))>, z=<data ((1738, 3))>, xlabel=u)\n",
      "Tue, 29 Oct 2019 15:39 PARAMETERS   INFO    calling autofig.mesh(equal_aspect=True, i=0.12, zlabel=w, ec=black, label=secondary@mesh01, y=<data ((1738, 3))>, fc=white, save_kwargs={'writer': 'imagemagick'}, itol=1e-06, ylabel=v, marker=none, x=<data ((1738, 3))>, z=<data ((1738, 3))>, xlabel=u)\n",
      "Tue, 29 Oct 2019 15:39 PARAMETERS   INFO    calling autofig.mesh(equal_aspect=True, i=0.08, zlabel=w, ec=black, label=primary@mesh01, y=<data ((1738, 3))>, fc=white, save_kwargs={'writer': 'imagemagick'}, itol=1e-06, ylabel=v, marker=none, x=<data ((1738, 3))>, z=<data ((1738, 3))>, xlabel=u)\n",
      "Tue, 29 Oct 2019 15:39 PARAMETERS   INFO    calling autofig.mesh(equal_aspect=True, i=0.08, zlabel=w, ec=black, label=secondary@mesh01, y=<data ((1738, 3))>, fc=white, save_kwargs={'writer': 'imagemagick'}, itol=1e-06, ylabel=v, marker=none, x=<data ((1738, 3))>, z=<data ((1738, 3))>, xlabel=u)\n",
      "Tue, 29 Oct 2019 15:39 PARAMETERS   INFO    calling autofig.mesh(equal_aspect=True, i=0.36, zlabel=w, ec=black, label=primary@mesh01, y=<data ((1738, 3))>, fc=white, save_kwargs={'writer': 'imagemagick'}, itol=1e-06, ylabel=v, marker=none, x=<data ((1738, 3))>, z=<data ((1738, 3))>, xlabel=u)\n",
      "Tue, 29 Oct 2019 15:39 PARAMETERS   INFO    calling autofig.mesh(equal_aspect=True, i=0.36, zlabel=w, ec=black, label=secondary@mesh01, y=<data ((1738, 3))>, fc=white, save_kwargs={'writer': 'imagemagick'}, itol=1e-06, ylabel=v, marker=none, x=<data ((1738, 3))>, z=<data ((1738, 3))>, xlabel=u)\n",
      "Tue, 29 Oct 2019 15:39 PARAMETERS   INFO    calling autofig.mesh(equal_aspect=True, i=0.64, zlabel=w, ec=black, label=primary@mesh01, y=<data ((1738, 3))>, fc=white, save_kwargs={'writer': 'imagemagick'}, itol=1e-06, ylabel=v, marker=none, x=<data ((1738, 3))>, z=<data ((1738, 3))>, xlabel=u)\n",
      "Tue, 29 Oct 2019 15:39 PARAMETERS   INFO    calling autofig.mesh(equal_aspect=True, i=0.64, zlabel=w, ec=black, label=secondary@mesh01, y=<data ((1738, 3))>, fc=white, save_kwargs={'writer': 'imagemagick'}, itol=1e-06, ylabel=v, marker=none, x=<data ((1738, 3))>, z=<data ((1738, 3))>, xlabel=u)\n"
     ]
    },
    {
     "name": "stderr",
     "output_type": "stream",
     "text": [
      "Tue, 29 Oct 2019 15:39 PARAMETERS   INFO    calling autofig.mesh(equal_aspect=True, i=0.88, zlabel=w, ec=black, label=primary@mesh01, y=<data ((1738, 3))>, fc=white, save_kwargs={'writer': 'imagemagick'}, itol=1e-06, ylabel=v, marker=none, x=<data ((1738, 3))>, z=<data ((1738, 3))>, xlabel=u)\n",
      "Tue, 29 Oct 2019 15:39 PARAMETERS   INFO    calling autofig.mesh(equal_aspect=True, i=0.88, zlabel=w, ec=black, label=secondary@mesh01, y=<data ((1738, 3))>, fc=white, save_kwargs={'writer': 'imagemagick'}, itol=1e-06, ylabel=v, marker=none, x=<data ((1738, 3))>, z=<data ((1738, 3))>, xlabel=u)\n",
      "Tue, 29 Oct 2019 15:39 PARAMETERS   INFO    calling autofig.mesh(equal_aspect=True, i=1.0, zlabel=w, ec=black, label=primary@mesh01, y=<data ((1738, 3))>, fc=white, save_kwargs={'writer': 'imagemagick'}, itol=1e-06, ylabel=v, marker=none, x=<data ((1738, 3))>, z=<data ((1738, 3))>, xlabel=u)\n",
      "Tue, 29 Oct 2019 15:39 PARAMETERS   INFO    calling autofig.mesh(equal_aspect=True, i=1.0, zlabel=w, ec=black, label=secondary@mesh01, y=<data ((1738, 3))>, fc=white, save_kwargs={'writer': 'imagemagick'}, itol=1e-06, ylabel=v, marker=none, x=<data ((1738, 3))>, z=<data ((1738, 3))>, xlabel=u)\n",
      "Tue, 29 Oct 2019 15:39 PARAMETERS   INFO    calling autofig.mesh(equal_aspect=True, i=0.8, zlabel=w, ec=black, label=primary@mesh01, y=<data ((1738, 3))>, fc=white, save_kwargs={'writer': 'imagemagick'}, itol=1e-06, ylabel=v, marker=none, x=<data ((1738, 3))>, z=<data ((1738, 3))>, xlabel=u)\n",
      "Tue, 29 Oct 2019 15:39 PARAMETERS   INFO    calling autofig.mesh(equal_aspect=True, i=0.8, zlabel=w, ec=black, label=secondary@mesh01, y=<data ((1738, 3))>, fc=white, save_kwargs={'writer': 'imagemagick'}, itol=1e-06, ylabel=v, marker=none, x=<data ((1738, 3))>, z=<data ((1738, 3))>, xlabel=u)\n",
      "Tue, 29 Oct 2019 15:39 PARAMETERS   INFO    calling autofig.mesh(equal_aspect=True, i=0.56, zlabel=w, ec=black, label=primary@mesh01, y=<data ((1738, 3))>, fc=white, save_kwargs={'writer': 'imagemagick'}, itol=1e-06, ylabel=v, marker=none, x=<data ((1738, 3))>, z=<data ((1738, 3))>, xlabel=u)\n",
      "Tue, 29 Oct 2019 15:39 PARAMETERS   INFO    calling autofig.mesh(equal_aspect=True, i=0.56, zlabel=w, ec=black, label=secondary@mesh01, y=<data ((1738, 3))>, fc=white, save_kwargs={'writer': 'imagemagick'}, itol=1e-06, ylabel=v, marker=none, x=<data ((1738, 3))>, z=<data ((1738, 3))>, xlabel=u)\n",
      "Tue, 29 Oct 2019 15:39 PARAMETERS   INFO    calling autofig.mesh(equal_aspect=True, i=0.04, zlabel=w, ec=black, label=primary@mesh01, y=<data ((1738, 3))>, fc=white, save_kwargs={'writer': 'imagemagick'}, itol=1e-06, ylabel=v, marker=none, x=<data ((1738, 3))>, z=<data ((1738, 3))>, xlabel=u)\n",
      "Tue, 29 Oct 2019 15:39 PARAMETERS   INFO    calling autofig.mesh(equal_aspect=True, i=0.04, zlabel=w, ec=black, label=secondary@mesh01, y=<data ((1738, 3))>, fc=white, save_kwargs={'writer': 'imagemagick'}, itol=1e-06, ylabel=v, marker=none, x=<data ((1738, 3))>, z=<data ((1738, 3))>, xlabel=u)\n",
      "Tue, 29 Oct 2019 15:39 PARAMETERS   INFO    calling autofig.mesh(equal_aspect=True, i=0.94, zlabel=w, ec=black, label=primary@mesh01, y=<data ((1738, 3))>, fc=white, save_kwargs={'writer': 'imagemagick'}, itol=1e-06, ylabel=v, marker=none, x=<data ((1738, 3))>, z=<data ((1738, 3))>, xlabel=u)\n",
      "Tue, 29 Oct 2019 15:39 PARAMETERS   INFO    calling autofig.mesh(equal_aspect=True, i=0.94, zlabel=w, ec=black, label=secondary@mesh01, y=<data ((1738, 3))>, fc=white, save_kwargs={'writer': 'imagemagick'}, itol=1e-06, ylabel=v, marker=none, x=<data ((1738, 3))>, z=<data ((1738, 3))>, xlabel=u)\n",
      "Tue, 29 Oct 2019 15:39 PARAMETERS   INFO    calling autofig.mesh(equal_aspect=True, i=0.14, zlabel=w, ec=black, label=primary@mesh01, y=<data ((1738, 3))>, fc=white, save_kwargs={'writer': 'imagemagick'}, itol=1e-06, ylabel=v, marker=none, x=<data ((1738, 3))>, z=<data ((1738, 3))>, xlabel=u)\n",
      "Tue, 29 Oct 2019 15:39 PARAMETERS   INFO    calling autofig.mesh(equal_aspect=True, i=0.14, zlabel=w, ec=black, label=secondary@mesh01, y=<data ((1738, 3))>, fc=white, save_kwargs={'writer': 'imagemagick'}, itol=1e-06, ylabel=v, marker=none, x=<data ((1738, 3))>, z=<data ((1738, 3))>, xlabel=u)\n",
      "Tue, 29 Oct 2019 15:39 PARAMETERS   INFO    calling autofig.mesh(equal_aspect=True, i=0.28, zlabel=w, ec=black, label=primary@mesh01, y=<data ((1738, 3))>, fc=white, save_kwargs={'writer': 'imagemagick'}, itol=1e-06, ylabel=v, marker=none, x=<data ((1738, 3))>, z=<data ((1738, 3))>, xlabel=u)\n",
      "Tue, 29 Oct 2019 15:39 PARAMETERS   INFO    calling autofig.mesh(equal_aspect=True, i=0.28, zlabel=w, ec=black, label=secondary@mesh01, y=<data ((1738, 3))>, fc=white, save_kwargs={'writer': 'imagemagick'}, itol=1e-06, ylabel=v, marker=none, x=<data ((1738, 3))>, z=<data ((1738, 3))>, xlabel=u)\n",
      "Tue, 29 Oct 2019 15:39 PARAMETERS   INFO    calling autofig.mesh(equal_aspect=True, i=0.74, zlabel=w, ec=black, label=primary@mesh01, y=<data ((1738, 3))>, fc=white, save_kwargs={'writer': 'imagemagick'}, itol=1e-06, ylabel=v, marker=none, x=<data ((1738, 3))>, z=<data ((1738, 3))>, xlabel=u)\n",
      "Tue, 29 Oct 2019 15:39 PARAMETERS   INFO    calling autofig.mesh(equal_aspect=True, i=0.74, zlabel=w, ec=black, label=secondary@mesh01, y=<data ((1738, 3))>, fc=white, save_kwargs={'writer': 'imagemagick'}, itol=1e-06, ylabel=v, marker=none, x=<data ((1738, 3))>, z=<data ((1738, 3))>, xlabel=u)\n",
      "Tue, 29 Oct 2019 15:39 PARAMETERS   INFO    calling autofig.plot(x=<data ((51,))>, i=<data ((51,))>, label=lc01, y=<data ((51,))>, save_kwargs={'writer': 'imagemagick'}, ylabel=flux, marker=none, xlabel=time, z=0)\n",
      "Tue, 29 Oct 2019 15:39 PARAMETERS   INFO    calling autofig.plot(i=<data ((51,))>, label=primary@orb01, y=<data ((51,))>, save_kwargs={'writer': 'imagemagick'}, ylabel=w, marker=none, x=<data ((51,))>, z=0, xlabel=u)\n",
      "Tue, 29 Oct 2019 15:39 PARAMETERS   INFO    calling autofig.plot(i=<data ((51,))>, label=secondary@orb01, y=<data ((51,))>, save_kwargs={'writer': 'imagemagick'}, ylabel=w, marker=none, x=<data ((51,))>, z=0, xlabel=u)\n",
      "Tue, 29 Oct 2019 15:39 PARAMETERS   INFO    no times were providing, so defaulting to animate over all dataset times\n",
      "Tue, 29 Oct 2019 15:39 PARAMETERS   INFO    calling autofig.animate(i=[0.0, 0.02, 0.04, 0.06, 0.08, 0.1, 0.12, 0.14, 0.16, 0.18, 0.2, 0.22, 0.24, 0.26, 0.28, 0.3, 0.32, 0.34, 0.36, 0.38, 0.4, 0.42, 0.44, 0.46, 0.48, 0.5, 0.52, 0.54, 0.56, 0.58, 0.6, 0.62, 0.64, 0.66, 0.68, 0.7, 0.7000000000000001, 0.72, 0.74, 0.76, 0.78, 0.8, 0.82, 0.8200000000000001, 0.84, 0.86, 0.88, 0.9, 0.92, 0.94, 0.9400000000000001, 0.96, 0.98, 1.0], draw_sidebars=False, draw_title=False, tight_layout=False, save=animations_1.gif, show=False, save_kwargs={'writer': 'imagemagick'})\n",
      "Tue, 29 Oct 2019 15:39 matplotlib.animation INFO    Animation.save using <class 'matplotlib.animation.ImageMagickWriter'>\n",
      "Tue, 29 Oct 2019 15:39 matplotlib.animation INFO    MovieWriter.run: running command: ['convert', u'-size', u'432x288', u'-depth', u'8', u'-delay', '10.0', u'-loop', u'0', u'rgba:-', 'animations_1.gif']\n"
     ]
    },
    {
     "name": "stdout",
     "output_type": "stream",
     "text": [
      "WARNING: pad_aspect not supported for animations, ignoring\n",
      "WARNING: pad_aspect not supported for animations, ignoring\n",
      "WARNING: pad_aspect not supported for animations, ignoring\n",
      "WARNING: pad_aspect not supported for animations, ignoring\n",
      "WARNING: pad_aspect not supported for animations, ignoring\n",
      "WARNING: pad_aspect not supported for animations, ignoring\n",
      "WARNING: pad_aspect not supported for animations, ignoring\n",
      "WARNING: pad_aspect not supported for animations, ignoring\n",
      "WARNING: pad_aspect not supported for animations, ignoring\n",
      "WARNING: pad_aspect not supported for animations, ignoring\n",
      "WARNING: pad_aspect not supported for animations, ignoring\n",
      "WARNING: pad_aspect not supported for animations, ignoring\n",
      "WARNING: pad_aspect not supported for animations, ignoring\n",
      "WARNING: pad_aspect not supported for animations, ignoring\n",
      "WARNING: pad_aspect not supported for animations, ignoring\n",
      "WARNING: pad_aspect not supported for animations, ignoring\n",
      "WARNING: pad_aspect not supported for animations, ignoring\n",
      "WARNING: pad_aspect not supported for animations, ignoring\n",
      "WARNING: pad_aspect not supported for animations, ignoring\n",
      "WARNING: pad_aspect not supported for animations, ignoring\n",
      "WARNING: pad_aspect not supported for animations, ignoring\n",
      "WARNING: pad_aspect not supported for animations, ignoring\n",
      "WARNING: pad_aspect not supported for animations, ignoring\n",
      "WARNING: pad_aspect not supported for animations, ignoring\n",
      "WARNING: pad_aspect not supported for animations, ignoring\n",
      "WARNING: pad_aspect not supported for animations, ignoring\n",
      "WARNING: pad_aspect not supported for animations, ignoring\n",
      "WARNING: pad_aspect not supported for animations, ignoring\n",
      "WARNING: pad_aspect not supported for animations, ignoring\n",
      "WARNING: pad_aspect not supported for animations, ignoring\n",
      "WARNING: pad_aspect not supported for animations, ignoring\n",
      "WARNING: pad_aspect not supported for animations, ignoring\n",
      "WARNING: pad_aspect not supported for animations, ignoring\n",
      "WARNING: pad_aspect not supported for animations, ignoring\n",
      "WARNING: pad_aspect not supported for animations, ignoring\n",
      "WARNING: pad_aspect not supported for animations, ignoring\n",
      "WARNING: pad_aspect not supported for animations, ignoring\n",
      "WARNING: pad_aspect not supported for animations, ignoring\n",
      "WARNING: pad_aspect not supported for animations, ignoring\n",
      "WARNING: pad_aspect not supported for animations, ignoring\n",
      "WARNING: pad_aspect not supported for animations, ignoring\n",
      "WARNING: pad_aspect not supported for animations, ignoring\n",
      "WARNING: pad_aspect not supported for animations, ignoring\n",
      "WARNING: pad_aspect not supported for animations, ignoring\n",
      "WARNING: pad_aspect not supported for animations, ignoring\n",
      "WARNING: pad_aspect not supported for animations, ignoring\n",
      "WARNING: pad_aspect not supported for animations, ignoring\n",
      "WARNING: pad_aspect not supported for animations, ignoring\n",
      "WARNING: pad_aspect not supported for animations, ignoring\n",
      "WARNING: pad_aspect not supported for animations, ignoring\n",
      "WARNING: pad_aspect not supported for animations, ignoring\n",
      "WARNING: pad_aspect not supported for animations, ignoring\n",
      "WARNING: pad_aspect not supported for animations, ignoring\n",
      "WARNING: pad_aspect not supported for animations, ignoring\n",
      "WARNING: pad_aspect not supported for animations, ignoring\n",
      "WARNING: pad_aspect not supported for animations, ignoring\n",
      "WARNING: pad_aspect not supported for animations, ignoring\n",
      "WARNING: pad_aspect not supported for animations, ignoring\n",
      "WARNING: pad_aspect not supported for animations, ignoring\n",
      "WARNING: pad_aspect not supported for animations, ignoring\n",
      "WARNING: pad_aspect not supported for animations, ignoring\n",
      "WARNING: pad_aspect not supported for animations, ignoring\n",
      "WARNING: pad_aspect not supported for animations, ignoring\n",
      "WARNING: pad_aspect not supported for animations, ignoring\n",
      "WARNING: pad_aspect not supported for animations, ignoring\n",
      "WARNING: pad_aspect not supported for animations, ignoring\n",
      "WARNING: pad_aspect not supported for animations, ignoring\n",
      "WARNING: pad_aspect not supported for animations, ignoring\n",
      "WARNING: pad_aspect not supported for animations, ignoring\n",
      "WARNING: pad_aspect not supported for animations, ignoring\n",
      "WARNING: pad_aspect not supported for animations, ignoring\n",
      "WARNING: pad_aspect not supported for animations, ignoring\n",
      "WARNING: pad_aspect not supported for animations, ignoring\n",
      "WARNING: pad_aspect not supported for animations, ignoring\n",
      "WARNING: pad_aspect not supported for animations, ignoring\n",
      "WARNING: pad_aspect not supported for animations, ignoring\n",
      "WARNING: pad_aspect not supported for animations, ignoring\n",
      "WARNING: pad_aspect not supported for animations, ignoring\n",
      "WARNING: pad_aspect not supported for animations, ignoring\n",
      "WARNING: pad_aspect not supported for animations, ignoring\n",
      "WARNING: pad_aspect not supported for animations, ignoring\n",
      "WARNING: pad_aspect not supported for animations, ignoring\n",
      "WARNING: pad_aspect not supported for animations, ignoring\n",
      "WARNING: pad_aspect not supported for animations, ignoring\n",
      "WARNING: pad_aspect not supported for animations, ignoring\n",
      "WARNING: pad_aspect not supported for animations, ignoring\n",
      "WARNING: pad_aspect not supported for animations, ignoring\n",
      "WARNING: pad_aspect not supported for animations, ignoring\n",
      "WARNING: pad_aspect not supported for animations, ignoring\n",
      "WARNING: pad_aspect not supported for animations, ignoring\n",
      "WARNING: pad_aspect not supported for animations, ignoring\n",
      "WARNING: pad_aspect not supported for animations, ignoring\n",
      "WARNING: pad_aspect not supported for animations, ignoring\n",
      "WARNING: pad_aspect not supported for animations, ignoring\n",
      "WARNING: pad_aspect not supported for animations, ignoring\n",
      "WARNING: pad_aspect not supported for animations, ignoring\n",
      "WARNING: pad_aspect not supported for animations, ignoring\n",
      "WARNING: pad_aspect not supported for animations, ignoring\n",
      "WARNING: pad_aspect not supported for animations, ignoring\n",
      "WARNING: pad_aspect not supported for animations, ignoring\n",
      "WARNING: pad_aspect not supported for animations, ignoring\n",
      "WARNING: pad_aspect not supported for animations, ignoring\n",
      "WARNING: pad_aspect not supported for animations, ignoring\n",
      "WARNING: pad_aspect not supported for animations, ignoring\n",
      "WARNING: pad_aspect not supported for animations, ignoring\n",
      "WARNING: pad_aspect not supported for animations, ignoring\n",
      "WARNING: pad_aspect not supported for animations, ignoring\n",
      "WARNING: pad_aspect not supported for animations, ignoring\n"
     ]
    },
    {
     "data": {
      "image/png": "[encoded data removed]",
      "text/plain": [
       "<Figure size 432x288 with 3 Axes>"
      ]
     },
     "metadata": {
      "needs_background": "light"
     },
     "output_type": "display_data"
    }
   ],
   "source": [
    "afig, mplanim = b.plot(y={'orb': 'ws'}, \n",
    "                       animate=True, save='animations_1.gif', save_kwargs={'writer': 'imagemagick'})"
   ]
  },
  {
   "cell_type": "code",
   "execution_count": null,
   "metadata": {
    "scrolled": true
   },
   "outputs": [],
   "source": []
  }
 ],
 "metadata": {
  "kernelspec": {
   "display_name": "Python 2",
   "language": "python",
   "name": "python2"
  },
  "language_info": {
   "codemirror_mode": {
    "name": "ipython",
    "version": 2
   },
   "file_extension": ".py",
   "mimetype": "text/x-python",
   "name": "python",
   "nbconvert_exporter": "python",
   "pygments_lexer": "ipython2",
   "version": "2.7.16"
  }
 },
 "nbformat": 4,
 "nbformat_minor": 2
}
