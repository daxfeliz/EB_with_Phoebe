{
 "cells": [
  {
   "cell_type": "code",
   "execution_count": 18,
   "metadata": {},
   "outputs": [],
   "source": [
    "import numpy as np\n",
    "import emcee\n",
    "import matplotlib.pyplot as pl\n",
    "from matplotlib.pyplot import cm \n",
    "import matplotlib.mlab as mlab\n",
    "import phoebe\n",
    "# from scipy.stats import norm #for python3"
   ]
  },
  {
   "cell_type": "code",
   "execution_count": 19,
   "metadata": {},
   "outputs": [],
   "source": [
    "#next, set hyperparameters used for emcee (MCMC)\n",
    "\n",
    "nwalkers = 20\n",
    "niter = 10\n",
    "prior_boxes = [(-2.,0.),(-0.5,0.5),(-0.5,0.)]\n",
    "ndim = len(prior_boxes)\n",
    "sigma = 0.1"
   ]
  },
  {
   "cell_type": "code",
   "execution_count": 20,
   "metadata": {},
   "outputs": [],
   "source": [
    "#generate initial guesses\n",
    "def rpars(prior_boxes):\n",
    "    return [np.random.rand() * (p[1]-p[0]) + p[0] for p in prior_boxes]\n",
    "\n",
    "#determine log probability using this function:\n",
    "\n",
    "def lnprob(z):\n",
    "\n",
    "    # make a model using the values the sampler generated\n",
    "    model = q(z[0],z[1],z[2],x)\n",
    "\n",
    "    # use chi^2 to compare the model to the data:\n",
    "    chi2 = 0.\n",
    "    for i in range (len(x)):\n",
    "            chi2+=((noisy[i]-model[i])**2)/(sigma**2)\n",
    "\n",
    "    # calculate lnp\n",
    "    lnp = -0.5*chi2\n",
    "\n",
    "    return lnp"
   ]
  },
  {
   "cell_type": "code",
   "execution_count": 21,
   "metadata": {},
   "outputs": [],
   "source": [
    "#run it all together:\n",
    "\n",
    "def run(prior_boxes, nwalkers, niter, ndim):\n",
    "\n",
    "    # Generate initial guesses for all parameters for all chains\n",
    "    p0 = np.array([rpars(prior_boxes) for i in range(nwalkers)])\n",
    "\n",
    "    # Generate the emcee sampler. Here the inputs provided include the \n",
    "    # lnprob function. With this setup, the first parameter\n",
    "    # in the lnprob function is the output from the sampler (the paramter \n",
    "    # positions).\n",
    "    sampler = emcee.EnsembleSampler(nwalkers,ndim,lnprob)\n",
    "\n",
    "    pos, prob, state = sampler.run_mcmc(p0, niter)\n",
    "\n",
    "    for i in range(ndim):\n",
    "        pl.figure()\n",
    "        y = sampler.flatchain[:,i]\n",
    "        n, bins, patches = pl.hist(y, 200, normed=1, color=\"b\", alpha=0.45)\n",
    "        pl.title(\"Dimension {0:d}\".format(i))\n",
    "        \n",
    "        mu = np.average(y)\n",
    "        sigma = np.std(y)       \n",
    "        print (\"mu = \", \"sigma = \", mu, sigma)\n",
    "\n",
    "        bf = mlab.normpdf(bins, mu, sigma)\n",
    "#         bf = norm.pdf(bins, mu, sigma) #python 3\n",
    "        l = pl.plot(bins, bf, 'k--', linewidth=2.0)\n",
    "        \n",
    "        pl.xlabel('bins')\n",
    "        pl.ylabel('histogram?')\n",
    "    pl.show()\n",
    "    return pos"
   ]
  },
  {
   "cell_type": "code",
   "execution_count": 22,
   "metadata": {},
   "outputs": [],
   "source": [
    "#making synthetic binary using phoebe\n",
    "logger = phoebe.logger(clevel='WARNING')\n",
    "b = phoebe.default_binary()\n",
    "\n",
    "times = np.linspace(0,1,51)\n",
    "b.add_dataset('lc', times=times, dataset='lc01')\n",
    "\n",
    "#making irradiation method none VASTLY reduces run time\n",
    "b.get_parameter(context='compute', qualifier='irrad_method').set_value(\"none\")\n",
    "\n",
    "#reducing number of triangles for star models\n",
    "b.get_parameter(context='compute', component='primary', qualifier='ntriangles').set_value(300)\n",
    "b.get_parameter(context='compute', component='secondary', qualifier='ntriangles').set_value(300)"
   ]
  },
  {
   "cell_type": "code",
   "execution_count": 23,
   "metadata": {},
   "outputs": [
    {
     "data": {
      "text/plain": [
       "<ParameterSet: 2 parameters | qualifiers: fluxes, times>"
      ]
     },
     "execution_count": 23,
     "metadata": {},
     "output_type": "execute_result"
    }
   ],
   "source": [
    "#setting specific orbital parameters\n",
    "b['incl@binary@orbit@component'] = 90.0\n",
    "b['q@binary@orbit@component'] = 0.5\n",
    "b['pblum@primary@dataset'] = 1.0*np.pi\n",
    "\n",
    "b['requiv@primary@star@component'] = 1.0\n",
    "b['requiv@secondary@star@component'] = 0.5\n",
    "\n",
    "b.run_compute()"
   ]
  },
  {
   "cell_type": "code",
   "execution_count": 24,
   "metadata": {},
   "outputs": [
    {
     "data": {
      "image/png": "[encoded data removed]",
      "text/plain": [
       "<Figure size 432x288 with 1 Axes>"
      ]
     },
     "metadata": {
      "needs_background": "light"
     },
     "output_type": "display_data"
    }
   ],
   "source": [
    "#now adding noise\n",
    "fluxes = b['fluxes@latest@model'].get_value()/np.median(b['fluxes@latest@model'].get_value())\n",
    "sigmas = np.full((len(times)), 0.01)\n",
    "mean = 1.0\n",
    "noise = np.random.normal(mean, sigmas, fluxes.shape)\n",
    "noisy = (fluxes + noise)/np.median((fluxes + noise)) #normalized\n",
    "\n",
    "pl.plot(times, noisy, \"bo-\")\n",
    "pl.xlabel(\"Times\")\n",
    "pl.ylabel(\"Flux\")\n",
    "pl.show()"
   ]
  },
  {
   "cell_type": "code",
   "execution_count": 25,
   "metadata": {},
   "outputs": [],
   "source": [
    "#next, set hyperparameters used for emcee (MCMC)\n",
    "\n",
    "nwalkers = 20\n",
    "niter = 10\n",
    "prior_boxes = [(-2.,0.),(-0.5,0.5),(-0.5,0.)]\n",
    "ndim = len(prior_boxes)\n",
    "sigma = 0.1\n",
    "\n",
    "\n",
    "#making hyperparameters\n",
    "nwalkers = 10\n",
    "niter = 2\n",
    "\n",
    "#Now we have our data, we need to set the hyperparamters required to run emcee. \n",
    "#Here the prior boxes provide the lower and upper limits for the phoebe parameter values. \n",
    "#We will select the order to be incl, requiv1, requiv2, mass ratio\n",
    "init_dist = [(86.4,87.3),(1.15,1.25),(0.725,0.825),(0.675,0.725)]\n",
    "\n",
    "#Here we will set uninformed priors, but you can have informed priors such as gaussian priors:\n",
    "priors = [(80.,90),(1.1,1.3),(0.7,0.9),(0.6,0.9)]"
   ]
  },
  {
   "cell_type": "code",
   "execution_count": 26,
   "metadata": {},
   "outputs": [
    {
     "name": "stderr",
     "output_type": "stream",
     "text": [
      "Tue, 29 Oct 2019 20:50 BUNDLE       WARNING 'compute_phases' not a recognized kwarg\n"
     ]
    },
    {
     "data": {
      "text/plain": [
       "<ParameterSet: 15 parameters | contexts: compute, dataset>"
      ]
     },
     "execution_count": 26,
     "metadata": {},
     "output_type": "execute_result"
    }
   ],
   "source": [
    "#make a new model to fit synthetic data\n",
    "mod = phoebe.default_binary()\n",
    "\n",
    "#compute_phases isn't a kwarg?\n",
    "mod.add_dataset('lc', times = times, fluxes=fluxes, sigmas=sigmas,compute_phases=np.linspace(0,1.,51), passband='Kepler:mean')\n"
   ]
  },
  {
   "cell_type": "code",
   "execution_count": 27,
   "metadata": {},
   "outputs": [],
   "source": [
    "#reducing parameter space to run faster again\n",
    "mod.get_parameter(context='compute', qualifier='irrad_method').set_value(\"none\")\n",
    "mod.get_parameter(context='compute', component='primary', qualifier='ntriangles').set_value(300)\n",
    "mod.get_parameter(context='compute', component='secondary', qualifier='ntriangles').set_value(300)"
   ]
  },
  {
   "cell_type": "code",
   "execution_count": 28,
   "metadata": {},
   "outputs": [
    {
     "data": {
      "text/plain": [
       "<ParameterSet: 2 parameters | qualifiers: fluxes, times>"
      ]
     },
     "execution_count": 28,
     "metadata": {},
     "output_type": "execute_result"
    }
   ],
   "source": [
    "mod.run_compute()"
   ]
  },
  {
   "cell_type": "code",
   "execution_count": 29,
   "metadata": {},
   "outputs": [],
   "source": [
    "#this will calc. luminosity passband at each iteration\n",
    "# mod.set_value('pblum_mode',value='dataset-scaled')\n",
    "#^^^ DOESN\"T WORK"
   ]
  },
  {
   "cell_type": "code",
   "execution_count": 30,
   "metadata": {},
   "outputs": [],
   "source": [
    "#creating initial guesses\n",
    "def rpars(init_dist):\n",
    "    return [np.random.rand() * (i[1]-i[0]) + i[0] for i in init_dist]\n",
    "\n",
    "# Instate the priors such that if a parameter falls outside the prior range, \n",
    "# the value will be set to negative infinity and the model will not be accepted:\n",
    "def lnprior(priors, values):\n",
    "    \n",
    "    lp = 0.\n",
    "    for value, prior in zip(values, priors):\n",
    "        if value >= prior[0] and value <= prior[1]:\n",
    "            lp+=0\n",
    "        else:\n",
    "            lp+=-np.inf \n",
    "    return lp\n",
    "\n",
    "#determine log probabilitiy with this function\n",
    "def lnprob(z):\n",
    "\n",
    "    mod['incl@binary@orbit@component'] = z[0]\n",
    "    mod['requiv@primary@star@component'] = z[1]\n",
    "    mod['requiv@secondary@star@component'] = z[2]\n",
    "    mod['q@binary@orbit@component'] = z[3]\n",
    "    \n",
    "    lnp = lnprior(priors,z)\n",
    "    if not np.isfinite(lnp):\n",
    "            return -np.inf\n",
    "    \n",
    "    try: \n",
    "        mod.run_compute()\n",
    "\n",
    "        # use chi^2 to compare the model to the data:\n",
    "        chi2 = 0.\n",
    "        for dataset in mod.get_model().datasets:\n",
    "            chi2+=np.sum(mod.compute_residuals(dataset=dataset, as_quantity=False)**2/sigmas**2)\n",
    "        # calculate lnprob\n",
    "        lnprob = -0.5*chi2 + lnp\n",
    "        return lnprob\n",
    "    except:\n",
    "        return -np.inf"
   ]
  },
  {
   "cell_type": "code",
   "execution_count": 31,
   "metadata": {},
   "outputs": [],
   "source": [
    "#put it all together\n",
    "def run(init_dist, nwalkers, niter):\n",
    "    # Specify the number of dimensions for mcmc\n",
    "    ndim = len(init_dist)\n",
    "\n",
    "    # Generate initial guesses for all parameters for all chains\n",
    "    p0 = np.array([rpars(init_dist) for i in xrange(nwalkers)])\n",
    "\n",
    "    # Generate the emcee sampler. Here the inputs provided include the lnprob function. With this setup, the value z\n",
    "    # in the lnprob function, is the output from the sampler.\n",
    "    sampler = emcee.EnsembleSampler(nwalkers,ndim,lnprob)\n",
    "    \n",
    "    #pos is the position of the walkers in parameter space\n",
    "    #prob is the probability of the given \"pos\" positions\n",
    "    #state is the state of the random number generator\n",
    "    pos, prob, state = sampler.run_mcmc(p0, niter)\n",
    "\n",
    "    for i in range(ndim):\n",
    "        pl.figure()\n",
    "        y = sampler.flatchain[:,i]\n",
    "        n, bins, patches = pl.hist(y, 200, normed=1, color=\"b\", alpha=0.45)#, histtype=\"step\")\n",
    "        pl.title(\"Dimension {0:d}\".format(i))\n",
    "        \n",
    "        mu = np.average(y)\n",
    "        sigma = np.std(y)\n",
    "        \n",
    "        print \"mu = \", mu\n",
    "        print \"sigma = \",sigmas\n",
    "\n",
    "        bf = mlab.normpdf(bins, mu, sigma)\n",
    "        l = pl.plot(bins, bf, 'k--', linewidth=2.0)\n",
    "        pl.xlabel('bins')\n",
    "        pl.ylabel('histogram?')\n",
    "    pl.show()\n",
    "    return pos"
   ]
  },
  {
   "cell_type": "code",
   "execution_count": 32,
   "metadata": {
    "scrolled": false
   },
   "outputs": [
    {
     "name": "stderr",
     "output_type": "stream",
     "text": [
      "Tue, 29 Oct 2019 20:50 BUNDLE       WARNING overwriting model: latest\n",
      "Tue, 29 Oct 2019 20:50 BUNDLE       WARNING overwriting model: latest\n",
      "Tue, 29 Oct 2019 20:50 BUNDLE       WARNING overwriting model: latest\n",
      "Tue, 29 Oct 2019 20:50 BUNDLE       WARNING overwriting model: latest\n",
      "Tue, 29 Oct 2019 20:50 BUNDLE       WARNING overwriting model: latest\n",
      "Tue, 29 Oct 2019 20:51 BUNDLE       WARNING overwriting model: latest\n",
      "Tue, 29 Oct 2019 20:51 BUNDLE       WARNING overwriting model: latest\n",
      "Tue, 29 Oct 2019 20:51 BUNDLE       WARNING overwriting model: latest\n",
      "Tue, 29 Oct 2019 20:51 BUNDLE       WARNING overwriting model: latest\n",
      "Tue, 29 Oct 2019 20:51 BUNDLE       WARNING overwriting model: latest\n",
      "Tue, 29 Oct 2019 20:51 BUNDLE       WARNING overwriting model: latest\n",
      "Tue, 29 Oct 2019 20:51 BUNDLE       WARNING overwriting model: latest\n",
      "Tue, 29 Oct 2019 20:51 BUNDLE       WARNING overwriting model: latest\n",
      "Tue, 29 Oct 2019 20:51 BUNDLE       WARNING overwriting model: latest\n",
      "Tue, 29 Oct 2019 20:52 BUNDLE       WARNING overwriting model: latest\n",
      "Tue, 29 Oct 2019 20:52 BUNDLE       WARNING overwriting model: latest\n",
      "Tue, 29 Oct 2019 20:52 BUNDLE       WARNING overwriting model: latest\n",
      "Tue, 29 Oct 2019 20:52 BUNDLE       WARNING overwriting model: latest\n",
      "Tue, 29 Oct 2019 20:52 BUNDLE       WARNING overwriting model: latest\n",
      "Tue, 29 Oct 2019 20:52 BUNDLE       WARNING overwriting model: latest\n",
      "Tue, 29 Oct 2019 20:52 BUNDLE       WARNING overwriting model: latest\n",
      "Tue, 29 Oct 2019 20:53 BUNDLE       WARNING overwriting model: latest\n",
      "Tue, 29 Oct 2019 20:53 BUNDLE       WARNING overwriting model: latest\n",
      "Tue, 29 Oct 2019 20:53 BUNDLE       WARNING overwriting model: latest\n",
      "Tue, 29 Oct 2019 20:53 BUNDLE       WARNING overwriting model: latest\n",
      "Tue, 29 Oct 2019 20:53 BUNDLE       WARNING overwriting model: latest\n",
      "Tue, 29 Oct 2019 20:53 BUNDLE       WARNING overwriting model: latest\n",
      "Tue, 29 Oct 2019 20:54 BUNDLE       WARNING overwriting model: latest\n",
      "Tue, 29 Oct 2019 20:54 BUNDLE       WARNING overwriting model: latest\n",
      "Tue, 29 Oct 2019 20:54 BUNDLE       WARNING overwriting model: latest\n"
     ]
    },
    {
     "name": "stdout",
     "output_type": "stream",
     "text": [
      "mu =  86.70591231534037\n",
      "sigma =  [0.01 0.01 0.01 0.01 0.01 0.01 0.01 0.01 0.01 0.01 0.01 0.01 0.01 0.01\n",
      " 0.01 0.01 0.01 0.01 0.01 0.01 0.01 0.01 0.01 0.01 0.01 0.01 0.01 0.01\n",
      " 0.01 0.01 0.01 0.01 0.01 0.01 0.01 0.01 0.01 0.01 0.01 0.01 0.01 0.01\n",
      " 0.01 0.01 0.01 0.01 0.01 0.01 0.01 0.01 0.01]\n"
     ]
    },
    {
     "name": "stderr",
     "output_type": "stream",
     "text": [
      "/Users/felizd/anaconda2/lib/python2.7/site-packages/ipykernel_launcher.py:30: MatplotlibDeprecationWarning: scipy.stats.norm.pdf\n"
     ]
    },
    {
     "name": "stdout",
     "output_type": "stream",
     "text": [
      "mu =  1.1886077024722517\n",
      "sigma =  [0.01 0.01 0.01 0.01 0.01 0.01 0.01 0.01 0.01 0.01 0.01 0.01 0.01 0.01\n",
      " 0.01 0.01 0.01 0.01 0.01 0.01 0.01 0.01 0.01 0.01 0.01 0.01 0.01 0.01\n",
      " 0.01 0.01 0.01 0.01 0.01 0.01 0.01 0.01 0.01 0.01 0.01 0.01 0.01 0.01\n",
      " 0.01 0.01 0.01 0.01 0.01 0.01 0.01 0.01 0.01]\n",
      "mu =  0.7800269778212681\n",
      "sigma =  [0.01 0.01 0.01 0.01 0.01 0.01 0.01 0.01 0.01 0.01 0.01 0.01 0.01 0.01\n",
      " 0.01 0.01 0.01 0.01 0.01 0.01 0.01 0.01 0.01 0.01 0.01 0.01 0.01 0.01\n",
      " 0.01 0.01 0.01 0.01 0.01 0.01 0.01 0.01 0.01 0.01 0.01 0.01 0.01 0.01\n",
      " 0.01 0.01 0.01 0.01 0.01 0.01 0.01 0.01 0.01]\n",
      "mu =  0.6957873540705217\n",
      "sigma =  [0.01 0.01 0.01 0.01 0.01 0.01 0.01 0.01 0.01 0.01 0.01 0.01 0.01 0.01\n",
      " 0.01 0.01 0.01 0.01 0.01 0.01 0.01 0.01 0.01 0.01 0.01 0.01 0.01 0.01\n",
      " 0.01 0.01 0.01 0.01 0.01 0.01 0.01 0.01 0.01 0.01 0.01 0.01 0.01 0.01\n",
      " 0.01 0.01 0.01 0.01 0.01 0.01 0.01 0.01 0.01]\n"
     ]
    },
    {
     "data": {
      "image/png": "[encoded data removed]",
      "text/plain": [
       "<Figure size 432x288 with 1 Axes>"
      ]
     },
     "metadata": {
      "needs_background": "light"
     },
     "output_type": "display_data"
    },
    {
     "data": {
      "image/png": "[encoded data removed]",
      "text/plain": [
       "<Figure size 432x288 with 1 Axes>"
      ]
     },
     "metadata": {
      "needs_background": "light"
     },
     "output_type": "display_data"
    },
    {
     "data": {
      "image/png": "[encoded data removed]",
      "text/plain": [
       "<Figure size 432x288 with 1 Axes>"
      ]
     },
     "metadata": {
      "needs_background": "light"
     },
     "output_type": "display_data"
    },
    {
     "data": {
      "image/png": "[encoded data removed]",
      "text/plain": [
       "<Figure size 432x288 with 1 Axes>"
      ]
     },
     "metadata": {
      "needs_background": "light"
     },
     "output_type": "display_data"
    }
   ],
   "source": [
    "pos = run(init_dist, nwalkers, niter)"
   ]
  },
  {
   "cell_type": "code",
   "execution_count": 33,
   "metadata": {},
   "outputs": [],
   "source": [
    "color=cm.rainbow(np.linspace(0,1,nwalkers))\n",
    "for i,c in zip(range(nwalkers),color):\n",
    "  \n",
    "    #pl.figure()\n",
    "    \n",
    "    # Set all the parameter values\n",
    "    mod['incl@binary@orbit@component'] = pos[-1-i,0]\n",
    "    mod['requiv@primary@star@component'] = pos[-1-i,1]\n",
    "    mod['requiv@secondary@star@component'] = pos[-1-i,2]\n",
    "    mod['q@binary@orbit@component'] = pos[-1-i,3]\n",
    "        \n",
    "    mod.run_compute(model='run{}'.format(i))"
   ]
  },
  {
   "cell_type": "code",
   "execution_count": 34,
   "metadata": {},
   "outputs": [
    {
     "data": {
      "image/png": "[encoded data removed]",
      "text/plain": [
       "<Figure size 432x288 with 1 Axes>"
      ]
     },
     "metadata": {
      "needs_background": "light"
     },
     "output_type": "display_data"
    },
    {
     "name": "stdout",
     "output_type": "stream",
     "text": [
      "(51, 51, 51)\n"
     ]
    }
   ],
   "source": [
    "for i,c in zip(range(nwalkers),color):\n",
    "    #model by itself seems offset, normalizing it fixes it.\n",
    "    \n",
    "    f=mod['fluxes@run{}'.format(i)].interp_value(times=times)\n",
    "    \n",
    "    model = f\n",
    "    norm_model=f/np.median(f)\n",
    "#     pl.plot(times,model,c=c,marker='.',linestyle='-')\n",
    "    pl.plot(times,norm_model,c=c,marker='.',linestyle='-')\n",
    "\n",
    "pl.xlabel(\"Times\")\n",
    "pl.ylabel(\"Flux\")\n",
    "pl.plot(times,noisy,\"k.\")\n",
    "pl.show()\n",
    "\n",
    "print(len(times),len(model),len(noisy))"
   ]
  }
 ],
 "metadata": {
  "kernelspec": {
   "display_name": "Python 2",
   "language": "python",
   "name": "python2"
  },
  "language_info": {
   "codemirror_mode": {
    "name": "ipython",
    "version": 2
   },
   "file_extension": ".py",
   "mimetype": "text/x-python",
   "name": "python",
   "nbconvert_exporter": "python",
   "pygments_lexer": "ipython2",
   "version": "2.7.16"
  }
 },
 "nbformat": 4,
 "nbformat_minor": 2
}
